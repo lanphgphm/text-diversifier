{
 "cells": [
  {
   "cell_type": "markdown",
   "source": [
    "# Coders & Philosophers 2022\n",
    "## Team: Cats Overflow\n",
    "\n",
    ">THIS PROGRAM GIVES YOUR TEXT AN ATTITUDE BY ALTERNATING CASES 🐱\n",
    ">IN THIS VERSION, WE ADD ICON BASE ON WORD MEANING"
   ],
   "metadata": {
    "collapsed": false
   }
  },
  {
   "cell_type": "code",
   "execution_count": 14,
   "metadata": {
    "collapsed": true
   },
   "outputs": [
    {
     "data": {
      "text/plain": "    Emoji    Meaning\n0       😃  hehe,cười\n1       😄       hihi\n2       😁       haha\n3       😆        hài\n4       😅       chịu\n..    ...        ...\n183     💤        ngủ\n184    ⁉️         ủa\n185     ❓          ?\n186     💯      tuyệt\n187    ✔️        ok \n\n[188 rows x 2 columns]",
      "text/html": "<div>\n<style scoped>\n    .dataframe tbody tr th:only-of-type {\n        vertical-align: middle;\n    }\n\n    .dataframe tbody tr th {\n        vertical-align: top;\n    }\n\n    .dataframe thead th {\n        text-align: right;\n    }\n</style>\n<table border=\"1\" class=\"dataframe\">\n  <thead>\n    <tr style=\"text-align: right;\">\n      <th></th>\n      <th>Emoji</th>\n      <th>Meaning</th>\n    </tr>\n  </thead>\n  <tbody>\n    <tr>\n      <th>0</th>\n      <td>😃</td>\n      <td>hehe,cười</td>\n    </tr>\n    <tr>\n      <th>1</th>\n      <td>😄</td>\n      <td>hihi</td>\n    </tr>\n    <tr>\n      <th>2</th>\n      <td>😁</td>\n      <td>haha</td>\n    </tr>\n    <tr>\n      <th>3</th>\n      <td>😆</td>\n      <td>hài</td>\n    </tr>\n    <tr>\n      <th>4</th>\n      <td>😅</td>\n      <td>chịu</td>\n    </tr>\n    <tr>\n      <th>...</th>\n      <td>...</td>\n      <td>...</td>\n    </tr>\n    <tr>\n      <th>183</th>\n      <td>💤</td>\n      <td>ngủ</td>\n    </tr>\n    <tr>\n      <th>184</th>\n      <td>⁉️</td>\n      <td>ủa</td>\n    </tr>\n    <tr>\n      <th>185</th>\n      <td>❓</td>\n      <td>?</td>\n    </tr>\n    <tr>\n      <th>186</th>\n      <td>💯</td>\n      <td>tuyệt</td>\n    </tr>\n    <tr>\n      <th>187</th>\n      <td>✔️</td>\n      <td>ok</td>\n    </tr>\n  </tbody>\n</table>\n<p>188 rows × 2 columns</p>\n</div>"
     },
     "execution_count": 14,
     "metadata": {},
     "output_type": "execute_result"
    }
   ],
   "source": [
    "import pandas as pd\n",
    "emoji_meaning = pd.read_csv(\"emoji_meaning.csv\")\n",
    "for i in range(len(emoji_meaning)):\n",
    "  emoji_meaning['Emoji'][i]=str(emoji_meaning['Emoji'][i])\n",
    "  emoji_meaning['Meaning'][i]=str(emoji_meaning['Meaning'][i])\n",
    "emoji_meaning"
   ]
  },
  {
   "cell_type": "code",
   "execution_count": 15,
   "outputs": [
    {
     "name": "stdout",
     "output_type": "stream",
     "text": [
      "Here's your fairytext: ủa 😂 khóc 😭 hay 🤗 là cười 😃 \n"
     ]
    }
   ],
   "source": [
    "original_text = input('Enter your boring text: ')\n",
    "original_list = original_text.split(\" \")\n",
    "fairy_text=''\n",
    "for i in range(len(original_list)):\n",
    "  for j in range(len(emoji_meaning)):\n",
    "    if ',' not in original_list[i]:\n",
    "      if original_list[i] in emoji_meaning[\"Meaning\"][j]:\n",
    "        original_list[i] += \" \" + str(emoji_meaning[\"Emoji\"][j])\n",
    "    else:\n",
    "      original_list[i]=original_list[i].replace(',','')\n",
    "      if original_list[i] in emoji_meaning[\"\"][j]:\n",
    "        original_list[i] += \" \" + str(emoji_meaning[\"Emoji\"][j]) + \",\"\n",
    "for i in original_list:\n",
    "  fairy_text += i + \" \"\n",
    "print(f\"Here's your fairytext: {fairy_text}\")"
   ],
   "metadata": {
    "collapsed": false,
    "pycharm": {
     "name": "#%%\n"
    }
   }
  }
 ],
 "metadata": {
  "kernelspec": {
   "display_name": "Python 3",
   "language": "python",
   "name": "python3"
  },
  "language_info": {
   "codemirror_mode": {
    "name": "ipython",
    "version": 2
   },
   "file_extension": ".py",
   "mimetype": "text/x-python",
   "name": "python",
   "nbconvert_exporter": "python",
   "pygments_lexer": "ipython2",
   "version": "2.7.6"
  }
 },
 "nbformat": 4,
 "nbformat_minor": 0
}